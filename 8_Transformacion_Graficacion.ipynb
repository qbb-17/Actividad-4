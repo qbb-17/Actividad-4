{
 "cells": [
  {
   "cell_type": "code",
   "execution_count": null,
   "metadata": {},
   "outputs": [],
   "source": [
    "%pip install cufflinks\n",
    "%pip install nbformat"
   ]
  },
  {
   "cell_type": "code",
   "execution_count": null,
   "metadata": {},
   "outputs": [],
   "source": [
    "import pandas as pd\n",
    "import numpy as np\n",
    "import cufflinks as cf\n",
    "import matplotlib.pyplot as plt\n",
    "from IPython.display import display,HTML\n",
    "\n",
    "cf.set_config_file(sharing='public',theme='white',offline=True) # write cf.getThemes() to find all themes available"
   ]
  },
  {
   "cell_type": "code",
   "execution_count": null,
   "metadata": {},
   "outputs": [],
   "source": [
    "#Carga desde un archivo .csv sin indice\n",
    "data= pd.read_csv('Titanic.csv') \n",
    "data"
   ]
  },
  {
   "cell_type": "code",
   "execution_count": null,
   "metadata": {},
   "outputs": [],
   "source": [
    "#Reestructurar el Dataframe\n",
    "data = data.dropna()\n",
    "Data= data.pivot(index='Name', columns='Sex',  values='Age')\n",
    "#Data=Data [['female']] #Aqui se pueden editar las columnas que se desean mostrar en values\n",
    "Data"
   ]
  },
  {
   "cell_type": "code",
   "execution_count": null,
   "metadata": {},
   "outputs": [],
   "source": [
    "#Lineplot o grafico lineal\n",
    "Data.iplot(kind='line', xTitle='Nombre', yTitle='Edad', title='Edad de pasajeros del Titanic')"
   ]
  },
  {
   "cell_type": "code",
   "execution_count": null,
   "metadata": {},
   "outputs": [],
   "source": [
    "# Barplot o grafico de barras\n",
    "Edad_muestra = Data[Data.index.isin([\"Wick, Miss. Mary Natalie\", \"White, Mr. Percival Wayland\"])]\n",
    "\n",
    "# plotting\n",
    "Edad_muestra.iplot(kind='bar', xTitle='Nombre',\n",
    "                           yTitle='Edad', title='Muestra de 2 pasajeros del Titanic')"
   ]
  },
  {
   "cell_type": "code",
   "execution_count": null,
   "metadata": {},
   "outputs": [],
   "source": [
    "# Boxplot o grafico de caja\n",
    "\n",
    "Data.iplot(kind='box', xTitle='Género',\n",
    "                    yTitle='Edad', title='Rango de edades de pasajeros del Titanic')\n"
   ]
  },
  {
   "cell_type": "code",
   "execution_count": null,
   "metadata": {},
   "outputs": [],
   "source": [
    "#Histplot o Histograma\n",
    "\n",
    "Data[['female']].iplot(kind='hist',xTitle='Population', \n",
    "                               title='Distibución de edades de pasajeras del Titanic')\n"
   ]
  },
  {
   "cell_type": "code",
   "execution_count": null,
   "metadata": {},
   "outputs": [],
   "source": [
    "#Scatterplot o Mapa de dispersión\n",
    "\n",
    "Data[['female']].iplot(kind='scatter', mode='markers',xTitle='Nombres', \n",
    "                               title='Distibución de edades de pasajeras del Titanic')\n"
   ]
  }
 ],
 "metadata": {
  "kernelspec": {
   "display_name": "Python 3.10.6 64-bit",
   "language": "python",
   "name": "python3"
  },
  "language_info": {
   "codemirror_mode": {
    "name": "ipython",
    "version": 3
   },
   "file_extension": ".py",
   "mimetype": "text/x-python",
   "name": "python",
   "nbconvert_exporter": "python",
   "pygments_lexer": "ipython3",
   "version": "3.10.6"
  },
  "orig_nbformat": 4,
  "vscode": {
   "interpreter": {
    "hash": "3eb06009a151591584a8e64b076b6e8b9584003a8eff826d2bd74c5ffbf9e972"
   }
  }
 },
 "nbformat": 4,
 "nbformat_minor": 2
}
